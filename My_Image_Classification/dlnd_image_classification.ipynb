{
 "cells": [
  {
   "cell_type": "markdown",
   "metadata": {
    "collapsed": true
   },
   "source": [
    "# Image Classification\n",
    "In this project, you'll classify images from the [CIFAR-10 dataset](https://www.cs.toronto.edu/~kriz/cifar.html).  The dataset consists of airplanes, dogs, cats, and other objects. You'll preprocess the images, then train a convolutional neural network on all the samples. The images need to be normalized and the labels need to be one-hot encoded.  You'll get to apply what you learned and build a convolutional, max pooling, dropout, and fully connected layers.  At the end, you'll get to see your neural network's predictions on the sample images.\n",
    "## Get the Data\n",
    "Run the following cell to download the [CIFAR-10 dataset for python](https://www.cs.toronto.edu/~kriz/cifar-10-python.tar.gz)."
   ]
  },
  {
   "cell_type": "code",
   "execution_count": 1,
   "metadata": {},
   "outputs": [
    {
     "name": "stdout",
     "output_type": "stream",
     "text": [
      "All files found!\n"
     ]
    }
   ],
   "source": [
    "\"\"\"\n",
    "DON'T MODIFY ANYTHING IN THIS CELL THAT IS BELOW THIS LINE\n",
    "\"\"\"\n",
    "from urllib.request import urlretrieve\n",
    "from os.path import isfile, isdir\n",
    "from tqdm import tqdm\n",
    "import problem_unittests as tests\n",
    "import tarfile\n",
    "\n",
    "cifar10_dataset_folder_path = 'cifar-10-batches-py'\n",
    "\n",
    "# Use Floyd's cifar-10 dataset if present\n",
    "floyd_cifar10_location = '/cifar/cifar-10-python.tar.gz'\n",
    "if isfile(floyd_cifar10_location):\n",
    "    tar_gz_path = floyd_cifar10_location\n",
    "else:\n",
    "    tar_gz_path = 'cifar-10-python.tar.gz'\n",
    "\n",
    "class DLProgress(tqdm):\n",
    "    last_block = 0\n",
    "\n",
    "    def hook(self, block_num=1, block_size=1, total_size=None):\n",
    "        self.total = total_size\n",
    "        self.update((block_num - self.last_block) * block_size)\n",
    "        self.last_block = block_num\n",
    "\n",
    "if not isfile(tar_gz_path):\n",
    "    with DLProgress(unit='B', unit_scale=True, miniters=1, desc='CIFAR-10 Dataset') as pbar:\n",
    "        urlretrieve(\n",
    "            'https://www.cs.toronto.edu/~kriz/cifar-10-python.tar.gz',\n",
    "            tar_gz_path,\n",
    "            pbar.hook)\n",
    "\n",
    "if not isdir(cifar10_dataset_folder_path):\n",
    "    with tarfile.open(tar_gz_path) as tar:\n",
    "        tar.extractall()\n",
    "        tar.close()\n",
    "\n",
    "\n",
    "tests.test_folder_path(cifar10_dataset_folder_path)"
   ]
  },
  {
   "cell_type": "markdown",
   "metadata": {},
   "source": [
    "## Explore the Data\n",
    "The dataset is broken into batches to prevent your machine from running out of memory.  The CIFAR-10 dataset consists of 5 batches, named `data_batch_1`, `data_batch_2`, etc.. Each batch contains the labels and images that are one of the following:\n",
    "* airplane\n",
    "* automobile\n",
    "* bird\n",
    "* cat\n",
    "* deer\n",
    "* dog\n",
    "* frog\n",
    "* horse\n",
    "* ship\n",
    "* truck\n",
    "\n",
    "Understanding a dataset is part of making predictions on the data.  Play around with the code cell below by changing the `batch_id` and `sample_id`. The `batch_id` is the id for a batch (1-5). The `sample_id` is the id for a image and label pair in the batch.\n",
    "\n",
    "Ask yourself \"What are all possible labels?\", \"What is the range of values for the image data?\", \"Are the labels in order or random?\".  Answers to questions like these will help you preprocess the data and end up with better predictions."
   ]
  },
  {
   "cell_type": "code",
   "execution_count": 2,
   "metadata": {},
   "outputs": [
    {
     "name": "stdout",
     "output_type": "stream",
     "text": [
      "\n",
      "Stats of batch 1:\n",
      "Samples: 10000\n",
      "Label Counts: {0: 1005, 1: 974, 2: 1032, 3: 1016, 4: 999, 5: 937, 6: 1030, 7: 1001, 8: 1025, 9: 981}\n",
      "First 20 Labels: [6, 9, 9, 4, 1, 1, 2, 7, 8, 3, 4, 7, 7, 2, 9, 9, 9, 3, 2, 6]\n",
      "\n",
      "Example of Image 5:\n",
      "Image - Min Value: 0 Max Value: 252\n",
      "Image - Shape: (32, 32, 3)\n",
      "Label - Label Id: 1 Name: automobile\n"
     ]
    },
    {
     "data": {
      "image/png": "[encoded data removed]",
      "text/plain": [
       "<matplotlib.figure.Figure at 0x208bbaf9668>"
      ]
     },
     "metadata": {
      "image/png": {
       "height": 250,
       "width": 253
      }
     },
     "output_type": "display_data"
    }
   ],
   "source": [
    "%matplotlib inline\n",
    "%config InlineBackend.figure_format = 'retina'\n",
    "\n",
    "import helper\n",
    "import numpy as np\n",
    "\n",
    "# Explore the dataset\n",
    "batch_id = 1\n",
    "sample_id = 5\n",
    "helper.display_stats(cifar10_dataset_folder_path, batch_id, sample_id)"
   ]
  },
  {
   "cell_type": "markdown",
   "metadata": {},
   "source": [
    "## Implement Preprocess Functions\n",
    "### Normalize\n",
    "In the cell below, implement the `normalize` function to take in image data, `x`, and return it as a normalized Numpy array. The values should be in the range of 0 to 1, inclusive.  The return object should be the same shape as `x`."
   ]
  },
  {
   "cell_type": "code",
   "execution_count": 3,
   "metadata": {},
   "outputs": [
    {
     "name": "stdout",
     "output_type": "stream",
     "text": [
      "Tests Passed\n"
     ]
    }
   ],
   "source": [
    "def normalize(x):\n",
    "    \"\"\"\n",
    "    Normalize a list of sample image data in the range of 0 to 1\n",
    "    : x: List of image data.  The image shape is (32, 32, 3)\n",
    "    : return: Numpy array of normalize data\n",
    "    \"\"\"\n",
    "    # TODO: Implement Function\n",
    "    a = 0\n",
    "    b = 1\n",
    "    grayscalemin = 0\n",
    "    grayscalemax = 255\n",
    "    return a +(x - grayscalemin)*(b-a)/(grayscalemax - grayscalemin)\n",
    "\n",
    "\n",
    "\"\"\"\n",
    "DON'T MODIFY ANYTHING IN THIS CELL THAT IS BELOW THIS LINE\n",
    "\"\"\"\n",
    "tests.test_normalize(normalize)"
   ]
  },
  {
   "cell_type": "markdown",
   "metadata": {},
   "source": [
    "### One-hot encode\n",
    "Just like the previous code cell, you'll be implementing a function for preprocessing.  This time, you'll implement the `one_hot_encode` function. The input, `x`, are a list of labels.  Implement the function to return the list of labels as One-Hot encoded Numpy array.  The possible values for labels are 0 to 9. The one-hot encoding function should return the same encoding for each value between each call to `one_hot_encode`.  Make sure to save the map of encodings outside the function.\n",
    "\n",
    "Hint: Don't reinvent the wheel."
   ]
  },
  {
   "cell_type": "code",
   "execution_count": 4,
   "metadata": {},
   "outputs": [
    {
     "name": "stdout",
     "output_type": "stream",
     "text": [
      "Tests Passed\n"
     ]
    }
   ],
   "source": [
    "from sklearn import preprocessing \n",
    "def one_hot_encode(x):\n",
    "    \"\"\"\n",
    "    One hot encode a list of sample labels. Return a one-hot encoded vector for each label.\n",
    "    : x: List of sample Labels\n",
    "    : return: Numpy array of one-hot encoded labels\n",
    "    \"\"\"\n",
    "    # TODO: Implement Function\n",
    "    lb = preprocessing.LabelBinarizer()\n",
    "    lb.fit([0, 1, 2, 3, 4, 5, 6, 7, 8, 9])\n",
    "    return lb.transform(x)\n",
    "\n",
    "\n",
    "\"\"\"\n",
    "DON'T MODIFY ANYTHING IN THIS CELL THAT IS BELOW THIS LINE\n",
    "\"\"\"\n",
    "tests.test_one_hot_encode(one_hot_encode)"
   ]
  },
  {
   "cell_type": "markdown",
   "metadata": {},
   "source": [
    "### Randomize Data\n",
    "As you saw from exploring the data above, the order of the samples are randomized.  It doesn't hurt to randomize it again, but you don't need to for this dataset."
   ]
  },
  {
   "cell_type": "markdown",
   "metadata": {},
   "source": [
    "## Preprocess all the data and save it\n",
    "Running the code cell below will preprocess all the CIFAR-10 data and save it to file. The code below also uses 10% of the training data for validation."
   ]
  },
  {
   "cell_type": "code",
   "execution_count": 5,
   "metadata": {
    "collapsed": true
   },
   "outputs": [],
   "source": [
    "\"\"\"\n",
    "DON'T MODIFY ANYTHING IN THIS CELL\n",
    "\"\"\"\n",
    "# Preprocess Training, Validation, and Testing Data\n",
    "helper.preprocess_and_save_data(cifar10_dataset_folder_path, normalize, one_hot_encode)"
   ]
  },
  {
   "cell_type": "markdown",
   "metadata": {},
   "source": [
    "# Check Point\n",
    "This is your first checkpoint.  If you ever decide to come back to this notebook or have to restart the notebook, you can start from here.  The preprocessed data has been saved to disk."
   ]
  },
  {
   "cell_type": "code",
   "execution_count": 6,
   "metadata": {
    "collapsed": true
   },
   "outputs": [],
   "source": [
    "\"\"\"\n",
    "DON'T MODIFY ANYTHING IN THIS CELL\n",
    "\"\"\"\n",
    "import pickle\n",
    "import problem_unittests as tests\n",
    "import helper\n",
    "\n",
    "# Load the Preprocessed Validation data\n",
    "valid_features, valid_labels = pickle.load(open('preprocess_validation.p', mode='rb'))"
   ]
  },
  {
   "cell_type": "markdown",
   "metadata": {},
   "source": [
    "## Build the network\n",
    "For the neural network, you'll build each layer into a function.  Most of the code you've seen has been outside of functions. To test your code more thoroughly, we require that you put each layer in a function.  This allows us to give you better feedback and test for simple mistakes using our unittests before you submit your project.\n",
    "\n",
    ">**Note:** If you're finding it hard to dedicate enough time for this course each week, we've provided a small shortcut to this part of the project. In the next couple of problems, you'll have the option to use classes from the [TensorFlow Layers](https://www.tensorflow.org/api_docs/python/tf/layers) or [TensorFlow Layers (contrib)](https://www.tensorflow.org/api_guides/python/contrib.layers) packages to build each layer, except the layers you build in the \"Convolutional and Max Pooling Layer\" section.  TF Layers is similar to Keras's and TFLearn's abstraction to layers, so it's easy to pickup.\n",
    "\n",
    ">However, if you would like to get the most out of this course, try to solve all the problems _without_ using anything from the TF Layers packages. You **can** still use classes from other packages that happen to have the same name as ones you find in TF Layers! For example, instead of using the TF Layers version of the `conv2d` class, [tf.layers.conv2d](https://www.tensorflow.org/api_docs/python/tf/layers/conv2d), you would want to use the TF Neural Network version of `conv2d`, [tf.nn.conv2d](https://www.tensorflow.org/api_docs/python/tf/nn/conv2d). \n",
    "\n",
    "Let's begin!\n",
    "\n",
    "### Input\n",
    "The neural network needs to read the image data, one-hot encoded labels, and dropout keep probability. Implement the following functions\n",
    "* Implement `neural_net_image_input`\n",
    " * Return a [TF Placeholder](https://www.tensorflow.org/api_docs/python/tf/placeholder)\n",
    " * Set the shape using `image_shape` with batch size set to `None`.\n",
    " * Name the TensorFlow placeholder \"x\" using the TensorFlow `name` parameter in the [TF Placeholder](https://www.tensorflow.org/api_docs/python/tf/placeholder).\n",
    "* Implement `neural_net_label_input`\n",
    " * Return a [TF Placeholder](https://www.tensorflow.org/api_docs/python/tf/placeholder)\n",
    " * Set the shape using `n_classes` with batch size set to `None`.\n",
    " * Name the TensorFlow placeholder \"y\" using the TensorFlow `name` parameter in the [TF Placeholder](https://www.tensorflow.org/api_docs/python/tf/placeholder).\n",
    "* Implement `neural_net_keep_prob_input`\n",
    " * Return a [TF Placeholder](https://www.tensorflow.org/api_docs/python/tf/placeholder) for dropout keep probability.\n",
    " * Name the TensorFlow placeholder \"keep_prob\" using the TensorFlow `name` parameter in the [TF Placeholder](https://www.tensorflow.org/api_docs/python/tf/placeholder).\n",
    "\n",
    "These names will be used at the end of the project to load your saved model.\n",
    "\n",
    "Note: `None` for shapes in TensorFlow allow for a dynamic size."
   ]
  },
  {
   "cell_type": "code",
   "execution_count": 7,
   "metadata": {},
   "outputs": [
    {
     "name": "stdout",
     "output_type": "stream",
     "text": [
      "Image Input Tests Passed.\n",
      "Label Input Tests Passed.\n",
      "Keep Prob Tests Passed.\n"
     ]
    }
   ],
   "source": [
    "import tensorflow as tf\n",
    "\n",
    "def neural_net_image_input(image_shape):\n",
    "    \"\"\"\n",
    "    Return a Tensor for a batch of image input\n",
    "    : image_shape: Shape of the images\n",
    "    : return: Tensor for image input.\n",
    "    \"\"\"\n",
    "    # TODO: Implement Function\n",
    "    return tf.placeholder(tf.float32, shape=[None, *image_shape], name='x')\n",
    "\n",
    "\n",
    "def neural_net_label_input(n_classes):\n",
    "    \"\"\"\n",
    "    Return a Tensor for a batch of label input\n",
    "    : n_classes: Number of classes\n",
    "    : return: Tensor for label input.\n",
    "    \"\"\"\n",
    "    # TODO: Implement Function\n",
    "    return tf.placeholder(tf.float32, shape=[None, n_classes], name='y')\n",
    "\n",
    "\n",
    "def neural_net_keep_prob_input():\n",
    "    \"\"\"\n",
    "    Return a Tensor for keep probability\n",
    "    : return: Tensor for keep probability.\n",
    "    \"\"\"\n",
    "    # TODO: Implement Function\n",
    "    return tf.placeholder(tf.float32, name='keep_prob')\n",
    "\n",
    "\n",
    "\"\"\"\n",
    "DON'T MODIFY ANYTHING IN THIS CELL THAT IS BELOW THIS LINE\n",
    "\"\"\"\n",
    "tf.reset_default_graph()\n",
    "tests.test_nn_image_inputs(neural_net_image_input)\n",
    "tests.test_nn_label_inputs(neural_net_label_input)\n",
    "tests.test_nn_keep_prob_inputs(neural_net_keep_prob_input)"
   ]
  },
  {
   "cell_type": "markdown",
   "metadata": {},
   "source": [
    "### Convolution and Max Pooling Layer\n",
    "Convolution layers have a lot of success with images. For this code cell, you should implement the function `conv2d_maxpool` to apply convolution then max pooling:\n",
    "* Create the weight and bias using `conv_ksize`, `conv_num_outputs` and the shape of `x_tensor`.\n",
    "* Apply a convolution to `x_tensor` using weight and `conv_strides`.\n",
    " * We recommend you use same padding, but you're welcome to use any padding.\n",
    "* Add bias\n",
    "* Add a nonlinear activation to the convolution.\n",
    "* Apply Max Pooling using `pool_ksize` and `pool_strides`.\n",
    " * We recommend you use same padding, but you're welcome to use any padding.\n",
    "\n",
    "**Note:** You **can't** use [TensorFlow Layers](https://www.tensorflow.org/api_docs/python/tf/layers) or [TensorFlow Layers (contrib)](https://www.tensorflow.org/api_guides/python/contrib.layers) for **this** layer, but you can still use TensorFlow's [Neural Network](https://www.tensorflow.org/api_docs/python/tf/nn) package. You may still use the shortcut option for all the **other** layers."
   ]
  },
  {
   "cell_type": "code",
   "execution_count": 8,
   "metadata": {},
   "outputs": [
    {
     "name": "stdout",
     "output_type": "stream",
     "text": [
      "Tests Passed\n"
     ]
    }
   ],
   "source": [
    "def conv2d_maxpool(x_tensor, conv_num_outputs, conv_ksize, conv_strides, pool_ksize, pool_strides):\n",
    "    \"\"\"\n",
    "    Apply convolution then max pooling to x_tensor\n",
    "    :param x_tensor: TensorFlow Tensor\n",
    "    :param conv_num_outputs: Number of outputs for the convolutional layer\n",
    "    :param conv_ksize: kernal size 2-D Tuple for the convolutional layer\n",
    "    :param conv_strides: Stride 2-D Tuple for convolution\n",
    "    :param pool_ksize: kernal size 2-D Tuple for pool\n",
    "    :param pool_strides: Stride 2-D Tuple for pool\n",
    "    : return: A tensor that represents convolution and max pooling of x_tensor\n",
    "    \"\"\"\n",
    "    W = tf.Variable(tf.truncated_normal([*conv_ksize, int(x_tensor.get_shape()[3]),conv_num_outputs]))\n",
    "    b = tf.Variable(tf.zeros([conv_num_outputs]))\n",
    "    #new_height = ()\n",
    "    # TODO: Implement Function\n",
    "    conv = tf.nn.conv2d(x_tensor, W, strides=[1, *conv_strides, 1], padding='SAME')\n",
    "    conv = tf.nn.bias_add(conv, b)\n",
    "    conv = tf.nn.relu(conv)\n",
    "    return tf.nn.max_pool(conv, ksize=[1, *pool_ksize, 1], strides=[1, *pool_strides, 1], padding='SAME')\n",
    "\n",
    "\"\"\"\n",
    "DON'T MODIFY ANYTHING IN THIS CELL THAT IS BELOW THIS LINE\n",
    "\"\"\"\n",
    "tests.test_con_pool(conv2d_maxpool)"
   ]
  },
  {
   "cell_type": "markdown",
   "metadata": {},
   "source": [
    "### Flatten Layer\n",
    "Implement the `flatten` function to change the dimension of `x_tensor` from a 4-D tensor to a 2-D tensor.  The output should be the shape (*Batch Size*, *Flattened Image Size*). Shortcut option: you can use classes from the [TensorFlow Layers](https://www.tensorflow.org/api_docs/python/tf/layers) or [TensorFlow Layers (contrib)](https://www.tensorflow.org/api_guides/python/contrib.layers) packages for this layer. For more of a challenge, only use other TensorFlow packages."
   ]
  },
  {
   "cell_type": "code",
   "execution_count": 9,
   "metadata": {},
   "outputs": [
    {
     "name": "stdout",
     "output_type": "stream",
     "text": [
      "Tests Passed\n"
     ]
    }
   ],
   "source": [
    "def flatten(x_tensor):\n",
    "    \"\"\"\n",
    "    Flatten x_tensor to (Batch Size, Flattened Image Size)\n",
    "    : x_tensor: A tensor of size (Batch Size, ...), where ... are the image dimensions.\n",
    "    : return: A tensor of size (Batch Size, Flattened Image Size).\n",
    "    \"\"\"\n",
    "    shape = x_tensor.get_shape()\n",
    "    return tf.reshape(x_tensor, [-1, int(shape[1]*shape[2]*shape[3])])\n",
    "\n",
    "\n",
    "\"\"\"\n",
    "DON'T MODIFY ANYTHING IN THIS CELL THAT IS BELOW THIS LINE\n",
    "\"\"\"\n",
    "tests.test_flatten(flatten)"
   ]
  },
  {
   "cell_type": "markdown",
   "metadata": {},
   "source": [
    "### Fully-Connected Layer\n",
    "Implement the `fully_conn` function to apply a fully connected layer to `x_tensor` with the shape (*Batch Size*, *num_outputs*). Shortcut option: you can use classes from the [TensorFlow Layers](https://www.tensorflow.org/api_docs/python/tf/layers) or [TensorFlow Layers (contrib)](https://www.tensorflow.org/api_guides/python/contrib.layers) packages for this layer. For more of a challenge, only use other TensorFlow packages."
   ]
  },
  {
   "cell_type": "code",
   "execution_count": 10,
   "metadata": {},
   "outputs": [
    {
     "name": "stdout",
     "output_type": "stream",
     "text": [
      "Tests Passed\n"
     ]
    }
   ],
   "source": [
    "def fully_conn(x_tensor, num_outputs):\n",
    "    \"\"\"\n",
    "    Apply a fully connected layer to x_tensor using weight and bias\n",
    "    : x_tensor: A 2-D tensor where the first dimension is batch size.\n",
    "    : num_outputs: The number of output that the new tensor should be.\n",
    "    : return: A 2-D tensor where the second dimension is num_outputs.\n",
    "    \"\"\"\n",
    "    # TODO: Implement Function\n",
    "    W = tf.Variable(tf.truncated_normal([int(x_tensor.get_shape()[1]),num_outputs]))\n",
    "    b = tf.Variable(tf.zeros([num_outputs]))\n",
    "    fc = tf.add(tf.matmul(x_tensor, W), b)\n",
    "    \n",
    "    return tf.nn.relu(fc)\n",
    "\n",
    "\n",
    "\"\"\"\n",
    "DON'T MODIFY ANYTHING IN THIS CELL THAT IS BELOW THIS LINE\n",
    "\"\"\"\n",
    "tests.test_fully_conn(fully_conn)"
   ]
  },
  {
   "cell_type": "markdown",
   "metadata": {},
   "source": [
    "### Output Layer\n",
    "Implement the `output` function to apply a fully connected layer to `x_tensor` with the shape (*Batch Size*, *num_outputs*). Shortcut option: you can use classes from the [TensorFlow Layers](https://www.tensorflow.org/api_docs/python/tf/layers) or [TensorFlow Layers (contrib)](https://www.tensorflow.org/api_guides/python/contrib.layers) packages for this layer. For more of a challenge, only use other TensorFlow packages.\n",
    "\n",
    "**Note:** Activation, softmax, or cross entropy should **not** be applied to this."
   ]
  },
  {
   "cell_type": "code",
   "execution_count": 11,
   "metadata": {},
   "outputs": [
    {
     "name": "stdout",
     "output_type": "stream",
     "text": [
      "Tests Passed\n"
     ]
    }
   ],
   "source": [
    "def output(x_tensor, num_outputs):\n",
    "    \"\"\"\n",
    "    Apply a output layer to x_tensor using weight and bias\n",
    "    : x_tensor: A 2-D tensor where the first dimension is batch size.\n",
    "    : num_outputs: The number of output that the new tensor should be.\n",
    "    : return: A 2-D tensor where the second dimension is num_outputs.\n",
    "    \"\"\"\n",
    "    # TODO: Implement Function\n",
    "    W = tf.Variable(tf.truncated_normal([int(x_tensor.get_shape()[1]),num_outputs]))\n",
    "    b = tf.Variable(tf.zeros([num_outputs]))\n",
    "    return tf.add(tf.matmul(x_tensor, W), b)\n",
    "\n",
    "\n",
    "\"\"\"\n",
    "DON'T MODIFY ANYTHING IN THIS CELL THAT IS BELOW THIS LINE\n",
    "\"\"\"\n",
    "tests.test_output(output)"
   ]
  },
  {
   "cell_type": "markdown",
   "metadata": {},
   "source": [
    "### Create Convolutional Model\n",
    "Implement the function `conv_net` to create a convolutional neural network model. The function takes in a batch of images, `x`, and outputs logits.  Use the layers you created above to create this model:\n",
    "\n",
    "* Apply 1, 2, or 3 Convolution and Max Pool layers\n",
    "* Apply a Flatten Layer\n",
    "* Apply 1, 2, or 3 Fully Connected Layers\n",
    "* Apply an Output Layer\n",
    "* Return the output\n",
    "* Apply [TensorFlow's Dropout](https://www.tensorflow.org/api_docs/python/tf/nn/dropout) to one or more layers in the model using `keep_prob`. "
   ]
  },
  {
   "cell_type": "code",
   "execution_count": 12,
   "metadata": {},
   "outputs": [
    {
     "name": "stdout",
     "output_type": "stream",
     "text": [
      "Neural Network Built!\n"
     ]
    }
   ],
   "source": [
    "def conv_net(x, keep_prob):\n",
    "    \"\"\"\n",
    "    Create a convolutional neural network model\n",
    "    : x: Placeholder tensor that holds image data.\n",
    "    : keep_prob: Placeholder tensor that hold dropout keep probability.\n",
    "    : return: Tensor that represents logits\n",
    "    \"\"\"\n",
    "    # TODO: Apply 1, 2, or 3 Convolution and Max Pool layers\n",
    "    #    Play around with different number of outputs, kernel size and stride\n",
    "    # Function Definition from Above:\n",
    "    x = conv2d_maxpool(x, 128, [3, 3], [1, 1], [2, 2], [2, 2])\n",
    "    #x = tf.layers.dropout(inputs=x, rate=keep_prob)\n",
    "    x = conv2d_maxpool(x, 256, [3, 3], [1, 1], [2, 2], [2, 2])\n",
    "    x = tf.layers.dropout(inputs=x, rate=keep_prob)\n",
    "    x = tf.layers.dropout(inputs=x, rate=keep_prob)\n",
    "    x = conv2d_maxpool(x, 512, [3, 3], [1, 1], [2, 2], [2, 2])\n",
    "    #x = \n",
    "\n",
    "    # TODO: Apply a Flatten Layer\n",
    "    # Function Definition from Above:\n",
    "    #   flatten(x_tensor)\n",
    "    x = flatten(x)\n",
    "\n",
    "    # TODO: Apply 1, 2, or 3 Fully Connected Layers\n",
    "    #    Play around with different number of outputs\n",
    "    # Function Definition from Above:\n",
    "    #x  = fully_conn(x, 1024)\n",
    "    #x = tf.layers.dropout(inputs=x, rate=keep_prob)\n",
    "    \n",
    "    x  = fully_conn(x, 1024)\n",
    "    x = tf.layers.dropout(inputs=x, rate=keep_prob)\n",
    "    \n",
    "    # TODO: Apply an Output Layer\n",
    "    #    Set this to the number of classes\n",
    "    # Function Definition from Above:\n",
    "    #x = output(x, 10)\n",
    "    \n",
    "    \n",
    "    # TODO: return output\n",
    "    return output(x, 10)\n",
    "\n",
    "\n",
    "\"\"\"\n",
    "DON'T MODIFY ANYTHING IN THIS CELL THAT IS BELOW THIS LINE\n",
    "\"\"\"\n",
    "\n",
    "##############################\n",
    "## Build the Neural Network ##\n",
    "##############################\n",
    "\n",
    "# Remove previous weights, bias, inputs, etc..\n",
    "tf.reset_default_graph()\n",
    "\n",
    "# Inputs\n",
    "x = neural_net_image_input((32, 32, 3))\n",
    "y = neural_net_label_input(10)\n",
    "keep_prob = neural_net_keep_prob_input()\n",
    "\n",
    "# Model\n",
    "logits = conv_net(x, keep_prob)\n",
    "\n",
    "# Name logits Tensor, so that is can be loaded from disk after training\n",
    "logits = tf.identity(logits, name='logits')\n",
    "\n",
    "# Loss and Optimizer\n",
    "cost = tf.reduce_mean(tf.nn.softmax_cross_entropy_with_logits(logits=logits, labels=y))\n",
    "optimizer = tf.train.AdamOptimizer().minimize(cost)\n",
    "\n",
    "# Accuracy\n",
    "correct_pred = tf.equal(tf.argmax(logits, 1), tf.argmax(y, 1))\n",
    "accuracy = tf.reduce_mean(tf.cast(correct_pred, tf.float32), name='accuracy')\n",
    "\n",
    "tests.test_conv_net(conv_net)"
   ]
  },
  {
   "cell_type": "markdown",
   "metadata": {},
   "source": [
    "## Train the Neural Network\n",
    "### Single Optimization\n",
    "Implement the function `train_neural_network` to do a single optimization.  The optimization should use `optimizer` to optimize in `session` with a `feed_dict` of the following:\n",
    "* `x` for image input\n",
    "* `y` for labels\n",
    "* `keep_prob` for keep probability for dropout\n",
    "\n",
    "This function will be called for each batch, so `tf.global_variables_initializer()` has already been called.\n",
    "\n",
    "Note: Nothing needs to be returned. This function is only optimizing the neural network."
   ]
  },
  {
   "cell_type": "code",
   "execution_count": 13,
   "metadata": {},
   "outputs": [
    {
     "name": "stdout",
     "output_type": "stream",
     "text": [
      "Tests Passed\n"
     ]
    }
   ],
   "source": [
    "def train_neural_network(session, optimizer, keep_probability, feature_batch, label_batch):\n",
    "    \"\"\"\n",
    "    Optimize the session on a batch of images and labels\n",
    "    : session: Current TensorFlow session\n",
    "    : optimizer: TensorFlow optimizer function\n",
    "    : keep_probability: keep probability\n",
    "    : feature_batch: Batch of Numpy image data\n",
    "    : label_batch: Batch of Numpy label data\n",
    "    \"\"\"\n",
    "    # TODO: Implement Function\n",
    "    session.run(optimizer, feed_dict={x:feature_batch, y: label_batch, keep_prob: keep_probability})\n",
    "\n",
    "\n",
    "\"\"\"\n",
    "DON'T MODIFY ANYTHING IN THIS CELL THAT IS BELOW THIS LINE\n",
    "\"\"\"\n",
    "tests.test_train_nn(train_neural_network)"
   ]
  },
  {
   "cell_type": "markdown",
   "metadata": {},
   "source": [
    "### Show Stats\n",
    "Implement the function `print_stats` to print loss and validation accuracy.  Use the global variables `valid_features` and `valid_labels` to calculate validation accuracy.  Use a keep probability of `1.0` to calculate the loss and validation accuracy."
   ]
  },
  {
   "cell_type": "code",
   "execution_count": 14,
   "metadata": {
    "collapsed": true
   },
   "outputs": [],
   "source": [
    "def print_stats(session, feature_batch, label_batch, cost, accuracy):\n",
    "    \"\"\"\n",
    "    Print information about loss and validation accuracy\n",
    "    : session: Current TensorFlow session\n",
    "    : feature_batch: Batch of Numpy image data\n",
    "    : label_batch: Batch of Numpy label data\n",
    "    : cost: TensorFlow cost function\n",
    "    : accuracy: TensorFlow accuracy function\n",
    "    \"\"\"\n",
    "    # TODO: Implement Function\n",
    "    loss = session.run(cost, feed_dict={x: feature_batch, y:label_batch, keep_prob: 1.0})\n",
    "    valida_acc = session.run(accuracy, feed_dict={x: valid_features, y:valid_labels, keep_prob: 1.0})\n",
    "    print('Loss : {:>10.4f} validation accuracy: {:.6f}'.format(loss, valida_acc))"
   ]
  },
  {
   "cell_type": "markdown",
   "metadata": {},
   "source": [
    "### Hyperparameters\n",
    "Tune the following parameters:\n",
    "* Set `epochs` to the number of iterations until the network stops learning or start overfitting\n",
    "* Set `batch_size` to the highest number that your machine has memory for.  Most people set them to common sizes of memory:\n",
    " * 64\n",
    " * 128\n",
    " * 256\n",
    " * ...\n",
    "* Set `keep_probability` to the probability of keeping a node using dropout"
   ]
  },
  {
   "cell_type": "code",
   "execution_count": 15,
   "metadata": {
    "collapsed": true
   },
   "outputs": [],
   "source": [
    "# TODO: Tune Parameters\n",
    "epochs = 50\n",
    "batch_size = 128\n",
    "keep_probability = 0.6"
   ]
  },
  {
   "cell_type": "markdown",
   "metadata": {},
   "source": [
    "### Train on a Single CIFAR-10 Batch\n",
    "Instead of training the neural network on all the CIFAR-10 batches of data, let's use a single batch. This should save time while you iterate on the model to get a better accuracy.  Once the final validation accuracy is 50% or greater, run the model on all the data in the next section."
   ]
  },
  {
   "cell_type": "code",
   "execution_count": 16,
   "metadata": {},
   "outputs": [
    {
     "name": "stdout",
     "output_type": "stream",
     "text": [
      "Checking the Training on a Single Batch...\n",
      "Epoch  1, CIFAR-10 Batch 1:  Loss : 412490.7812 validation accuracy: 0.266800\n",
      "Epoch  2, CIFAR-10 Batch 1:  Loss : 261769.4375 validation accuracy: 0.333800\n",
      "Epoch  3, CIFAR-10 Batch 1:  Loss : 202859.2344 validation accuracy: 0.351800\n",
      "Epoch  4, CIFAR-10 Batch 1:  Loss : 154282.5625 validation accuracy: 0.342200\n",
      "Epoch  5, CIFAR-10 Batch 1:  Loss : 139776.0312 validation accuracy: 0.345000\n",
      "Epoch  6, CIFAR-10 Batch 1:  Loss : 112420.1406 validation accuracy: 0.395200\n",
      "Epoch  7, CIFAR-10 Batch 1:  Loss : 105484.5234 validation accuracy: 0.389000\n",
      "Epoch  8, CIFAR-10 Batch 1:  Loss : 83683.6641 validation accuracy: 0.372200\n",
      "Epoch  9, CIFAR-10 Batch 1:  Loss : 69549.1250 validation accuracy: 0.367800\n",
      "Epoch 10, CIFAR-10 Batch 1:  Loss : 31510.0508 validation accuracy: 0.416400\n",
      "Epoch 11, CIFAR-10 Batch 1:  Loss : 16089.7129 validation accuracy: 0.438400\n",
      "Epoch 12, CIFAR-10 Batch 1:  Loss : 31246.7676 validation accuracy: 0.390800\n",
      "Epoch 13, CIFAR-10 Batch 1:  Loss : 28727.0957 validation accuracy: 0.370000\n",
      "Epoch 14, CIFAR-10 Batch 1:  Loss : 18375.1191 validation accuracy: 0.393800\n",
      "Epoch 15, CIFAR-10 Batch 1:  Loss :  3815.5474 validation accuracy: 0.441000\n",
      "Epoch 16, CIFAR-10 Batch 1:  Loss :  7518.7134 validation accuracy: 0.440200\n",
      "Epoch 17, CIFAR-10 Batch 1:  Loss :  9078.8184 validation accuracy: 0.441400\n",
      "Epoch 18, CIFAR-10 Batch 1:  Loss : 16434.4805 validation accuracy: 0.426600\n",
      "Epoch 19, CIFAR-10 Batch 1:  Loss : 27561.3672 validation accuracy: 0.455200\n",
      "Epoch 20, CIFAR-10 Batch 1:  Loss : 30275.0391 validation accuracy: 0.437800\n",
      "Epoch 21, CIFAR-10 Batch 1:  Loss : 12926.4453 validation accuracy: 0.443200\n",
      "Epoch 22, CIFAR-10 Batch 1:  Loss :  5344.8335 validation accuracy: 0.454400\n",
      "Epoch 23, CIFAR-10 Batch 1:  Loss : 15707.7988 validation accuracy: 0.448200\n",
      "Epoch 24, CIFAR-10 Batch 1:  Loss : 19063.9961 validation accuracy: 0.430600\n",
      "Epoch 25, CIFAR-10 Batch 1:  Loss : 11209.4766 validation accuracy: 0.461200\n",
      "Epoch 26, CIFAR-10 Batch 1:  Loss :  5739.8467 validation accuracy: 0.455800\n",
      "Epoch 27, CIFAR-10 Batch 1:  Loss :  5232.7202 validation accuracy: 0.460200\n",
      "Epoch 28, CIFAR-10 Batch 1:  Loss :  1674.1281 validation accuracy: 0.471200\n",
      "Epoch 29, CIFAR-10 Batch 1:  Loss :  3160.0413 validation accuracy: 0.484000\n",
      "Epoch 30, CIFAR-10 Batch 1:  Loss :  9231.4082 validation accuracy: 0.472000\n",
      "Epoch 31, CIFAR-10 Batch 1:  Loss :  4125.1104 validation accuracy: 0.467000\n",
      "Epoch 32, CIFAR-10 Batch 1:  Loss :  4734.6548 validation accuracy: 0.460800\n",
      "Epoch 33, CIFAR-10 Batch 1:  Loss :  1807.9688 validation accuracy: 0.479200\n",
      "Epoch 34, CIFAR-10 Batch 1:  Loss :  6472.9185 validation accuracy: 0.458800\n",
      "Epoch 35, CIFAR-10 Batch 1:  Loss :     0.0000 validation accuracy: 0.478000\n",
      "Epoch 36, CIFAR-10 Batch 1:  Loss :    89.0453 validation accuracy: 0.486400\n",
      "Epoch 37, CIFAR-10 Batch 1:  Loss :     0.0000 validation accuracy: 0.483000\n",
      "Epoch 38, CIFAR-10 Batch 1:  Loss :     0.0000 validation accuracy: 0.498400\n",
      "Epoch 39, CIFAR-10 Batch 1:  Loss :   691.2969 validation accuracy: 0.487800\n",
      "Epoch 40, CIFAR-10 Batch 1:  Loss :  3771.8091 validation accuracy: 0.483200\n",
      "Epoch 41, CIFAR-10 Batch 1:  Loss :     0.0000 validation accuracy: 0.485000\n",
      "Epoch 42, CIFAR-10 Batch 1:  Loss :     0.0000 validation accuracy: 0.484200\n",
      "Epoch 43, CIFAR-10 Batch 1:  Loss :   546.9352 validation accuracy: 0.445800\n",
      "Epoch 44, CIFAR-10 Batch 1:  Loss :  1409.3489 validation accuracy: 0.455600\n",
      "Epoch 45, CIFAR-10 Batch 1:  Loss :   121.0328 validation accuracy: 0.452800\n",
      "Epoch 46, CIFAR-10 Batch 1:  Loss :  1184.4316 validation accuracy: 0.457400\n",
      "Epoch 47, CIFAR-10 Batch 1:  Loss :  1567.1532 validation accuracy: 0.441800\n",
      "Epoch 48, CIFAR-10 Batch 1:  Loss :     0.0000 validation accuracy: 0.460000\n",
      "Epoch 49, CIFAR-10 Batch 1:  Loss :     0.0000 validation accuracy: 0.475600\n",
      "Epoch 50, CIFAR-10 Batch 1:  Loss :     0.0000 validation accuracy: 0.509800\n"
     ]
    }
   ],
   "source": [
    "\"\"\"\n",
    "DON'T MODIFY ANYTHING IN THIS CELL\n",
    "\"\"\"\n",
    "print('Checking the Training on a Single Batch...')\n",
    "with tf.Session() as sess:\n",
    "    # Initializing the variables\n",
    "    sess.run(tf.global_variables_initializer())\n",
    "    \n",
    "    # Training cycle\n",
    "    for epoch in range(epochs):\n",
    "        batch_i = 1\n",
    "        for batch_features, batch_labels in helper.load_preprocess_training_batch(batch_i, batch_size):\n",
    "            train_neural_network(sess, optimizer, keep_probability, batch_features, batch_labels)\n",
    "        print('Epoch {:>2}, CIFAR-10 Batch {}:  '.format(epoch + 1, batch_i), end='')\n",
    "        print_stats(sess, batch_features, batch_labels, cost, accuracy)"
   ]
  },
  {
   "cell_type": "markdown",
   "metadata": {},
   "source": [
    "### Fully Train the Model\n",
    "Now that you got a good accuracy with a single CIFAR-10 batch, try it with all five batches."
   ]
  },
  {
   "cell_type": "code",
   "execution_count": 17,
   "metadata": {},
   "outputs": [
    {
     "name": "stdout",
     "output_type": "stream",
     "text": [
      "Training...\n",
      "Epoch  1, CIFAR-10 Batch 1:  Loss : 380793.3125 validation accuracy: 0.285000\n",
      "Epoch  1, CIFAR-10 Batch 2:  Loss : 170674.0312 validation accuracy: 0.333200\n",
      "Epoch  1, CIFAR-10 Batch 3:  Loss : 163575.0781 validation accuracy: 0.349600\n",
      "Epoch  1, CIFAR-10 Batch 4:  Loss : 115877.8125 validation accuracy: 0.357200\n",
      "Epoch  1, CIFAR-10 Batch 5:  Loss : 104274.6875 validation accuracy: 0.367600\n",
      "Epoch  2, CIFAR-10 Batch 1:  Loss : 166601.4688 validation accuracy: 0.407400\n",
      "Epoch  2, CIFAR-10 Batch 2:  Loss : 78087.1562 validation accuracy: 0.404200\n",
      "Epoch  2, CIFAR-10 Batch 3:  Loss : 72297.4531 validation accuracy: 0.403200\n",
      "Epoch  2, CIFAR-10 Batch 4:  Loss : 47215.3672 validation accuracy: 0.412600\n",
      "Epoch  2, CIFAR-10 Batch 5:  Loss : 57788.8477 validation accuracy: 0.430600\n",
      "Epoch  3, CIFAR-10 Batch 1:  Loss : 106221.3125 validation accuracy: 0.437200\n",
      "Epoch  3, CIFAR-10 Batch 2:  Loss : 58259.9844 validation accuracy: 0.431000\n",
      "Epoch  3, CIFAR-10 Batch 3:  Loss : 29424.2832 validation accuracy: 0.452200\n",
      "Epoch  3, CIFAR-10 Batch 4:  Loss : 26700.2148 validation accuracy: 0.444000\n",
      "Epoch  3, CIFAR-10 Batch 5:  Loss : 37668.6016 validation accuracy: 0.462800\n",
      "Epoch  4, CIFAR-10 Batch 1:  Loss : 60840.0391 validation accuracy: 0.443200\n",
      "Epoch  4, CIFAR-10 Batch 2:  Loss : 30369.7031 validation accuracy: 0.470200\n",
      "Epoch  4, CIFAR-10 Batch 3:  Loss : 21457.4590 validation accuracy: 0.458200\n",
      "Epoch  4, CIFAR-10 Batch 4:  Loss : 22552.2188 validation accuracy: 0.445200\n",
      "Epoch  4, CIFAR-10 Batch 5:  Loss : 30600.2812 validation accuracy: 0.456600\n",
      "Epoch  5, CIFAR-10 Batch 1:  Loss : 38223.1250 validation accuracy: 0.474000\n",
      "Epoch  5, CIFAR-10 Batch 2:  Loss : 19770.9375 validation accuracy: 0.482000\n",
      "Epoch  5, CIFAR-10 Batch 3:  Loss : 15954.3105 validation accuracy: 0.453200\n",
      "Epoch  5, CIFAR-10 Batch 4:  Loss : 11643.7041 validation accuracy: 0.477000\n",
      "Epoch  5, CIFAR-10 Batch 5:  Loss : 21566.6875 validation accuracy: 0.465400\n",
      "Epoch  6, CIFAR-10 Batch 1:  Loss : 27728.1660 validation accuracy: 0.487800\n",
      "Epoch  6, CIFAR-10 Batch 2:  Loss : 19789.8594 validation accuracy: 0.474200\n",
      "Epoch  6, CIFAR-10 Batch 3:  Loss :  8638.0225 validation accuracy: 0.484400\n",
      "Epoch  6, CIFAR-10 Batch 4:  Loss :  6375.9727 validation accuracy: 0.493800\n",
      "Epoch  6, CIFAR-10 Batch 5:  Loss : 14602.6338 validation accuracy: 0.481800\n",
      "Epoch  7, CIFAR-10 Batch 1:  Loss : 16820.8984 validation accuracy: 0.505200\n",
      "Epoch  7, CIFAR-10 Batch 2:  Loss : 10312.2715 validation accuracy: 0.485000\n",
      "Epoch  7, CIFAR-10 Batch 3:  Loss :  2997.5430 validation accuracy: 0.511600\n",
      "Epoch  7, CIFAR-10 Batch 4:  Loss :  7373.1113 validation accuracy: 0.486600\n",
      "Epoch  7, CIFAR-10 Batch 5:  Loss :  8800.7852 validation accuracy: 0.491600\n",
      "Epoch  8, CIFAR-10 Batch 1:  Loss : 15989.2217 validation accuracy: 0.506800\n",
      "Epoch  8, CIFAR-10 Batch 2:  Loss :  6520.6724 validation accuracy: 0.504800\n",
      "Epoch  8, CIFAR-10 Batch 3:  Loss :  2206.6523 validation accuracy: 0.518000\n",
      "Epoch  8, CIFAR-10 Batch 4:  Loss :  3721.1736 validation accuracy: 0.515200\n",
      "Epoch  8, CIFAR-10 Batch 5:  Loss : 10737.2139 validation accuracy: 0.488000\n",
      "Epoch  9, CIFAR-10 Batch 1:  Loss : 13406.2344 validation accuracy: 0.508800\n",
      "Epoch  9, CIFAR-10 Batch 2:  Loss :  5521.7969 validation accuracy: 0.499600\n",
      "Epoch  9, CIFAR-10 Batch 3:  Loss :  2397.7490 validation accuracy: 0.522200\n",
      "Epoch  9, CIFAR-10 Batch 4:  Loss :   756.7998 validation accuracy: 0.510000\n",
      "Epoch  9, CIFAR-10 Batch 5:  Loss :  6815.4399 validation accuracy: 0.475800\n",
      "Epoch 10, CIFAR-10 Batch 1:  Loss :  9864.5322 validation accuracy: 0.518800\n",
      "Epoch 10, CIFAR-10 Batch 2:  Loss :  2488.2542 validation accuracy: 0.522800\n",
      "Epoch 10, CIFAR-10 Batch 3:  Loss :  2389.4646 validation accuracy: 0.510400\n",
      "Epoch 10, CIFAR-10 Batch 4:  Loss :   706.1844 validation accuracy: 0.517600\n",
      "Epoch 10, CIFAR-10 Batch 5:  Loss :  3182.6636 validation accuracy: 0.492600\n",
      "Epoch 11, CIFAR-10 Batch 1:  Loss : 10495.4238 validation accuracy: 0.528600\n",
      "Epoch 11, CIFAR-10 Batch 2:  Loss :   722.2707 validation accuracy: 0.526200\n",
      "Epoch 11, CIFAR-10 Batch 3:  Loss :  3134.0330 validation accuracy: 0.520200\n",
      "Epoch 11, CIFAR-10 Batch 4:  Loss :  1852.5234 validation accuracy: 0.504800\n",
      "Epoch 11, CIFAR-10 Batch 5:  Loss :  3652.3569 validation accuracy: 0.511800\n",
      "Epoch 12, CIFAR-10 Batch 1:  Loss :  6958.3438 validation accuracy: 0.533600\n",
      "Epoch 12, CIFAR-10 Batch 2:  Loss :  1291.3765 validation accuracy: 0.515200\n",
      "Epoch 12, CIFAR-10 Batch 3:  Loss :  1721.4186 validation accuracy: 0.502800\n",
      "Epoch 12, CIFAR-10 Batch 4:  Loss :   865.6105 validation accuracy: 0.530000\n",
      "Epoch 12, CIFAR-10 Batch 5:  Loss :  1280.5436 validation accuracy: 0.515800\n",
      "Epoch 13, CIFAR-10 Batch 1:  Loss :  6850.2627 validation accuracy: 0.540000\n",
      "Epoch 13, CIFAR-10 Batch 2:  Loss :  1280.8964 validation accuracy: 0.520800\n",
      "Epoch 13, CIFAR-10 Batch 3:  Loss :  2216.4631 validation accuracy: 0.526600\n",
      "Epoch 13, CIFAR-10 Batch 4:  Loss :   132.5695 validation accuracy: 0.546800\n",
      "Epoch 13, CIFAR-10 Batch 5:  Loss :  2386.9741 validation accuracy: 0.514600\n",
      "Epoch 14, CIFAR-10 Batch 1:  Loss :  5371.6064 validation accuracy: 0.551000\n",
      "Epoch 14, CIFAR-10 Batch 2:  Loss :   559.9920 validation accuracy: 0.534200\n",
      "Epoch 14, CIFAR-10 Batch 3:  Loss :  1220.6520 validation accuracy: 0.552800\n",
      "Epoch 14, CIFAR-10 Batch 4:  Loss :     0.0000 validation accuracy: 0.552400\n",
      "Epoch 14, CIFAR-10 Batch 5:  Loss :  1503.2955 validation accuracy: 0.521200\n",
      "Epoch 15, CIFAR-10 Batch 1:  Loss :  4246.5991 validation accuracy: 0.540200\n",
      "Epoch 15, CIFAR-10 Batch 2:  Loss :   380.0975 validation accuracy: 0.521200\n",
      "Epoch 15, CIFAR-10 Batch 3:  Loss :   470.1361 validation accuracy: 0.558400\n",
      "Epoch 15, CIFAR-10 Batch 4:  Loss :   288.6916 validation accuracy: 0.553600\n",
      "Epoch 15, CIFAR-10 Batch 5:  Loss :   506.7559 validation accuracy: 0.519800\n",
      "Epoch 16, CIFAR-10 Batch 1:  Loss :  3125.5796 validation accuracy: 0.549200\n",
      "Epoch 16, CIFAR-10 Batch 2:  Loss :   678.7562 validation accuracy: 0.507200\n",
      "Epoch 16, CIFAR-10 Batch 3:  Loss :  1783.3043 validation accuracy: 0.548600\n",
      "Epoch 16, CIFAR-10 Batch 4:  Loss :   289.7191 validation accuracy: 0.548200\n",
      "Epoch 16, CIFAR-10 Batch 5:  Loss :   523.7184 validation accuracy: 0.526000\n",
      "Epoch 17, CIFAR-10 Batch 1:  Loss :  1408.9539 validation accuracy: 0.561200\n",
      "Epoch 17, CIFAR-10 Batch 2:  Loss :   979.7768 validation accuracy: 0.531800\n",
      "Epoch 17, CIFAR-10 Batch 3:  Loss :   251.5213 validation accuracy: 0.548800\n",
      "Epoch 17, CIFAR-10 Batch 4:  Loss :   376.8418 validation accuracy: 0.551800\n",
      "Epoch 17, CIFAR-10 Batch 5:  Loss :    54.6477 validation accuracy: 0.549800\n",
      "Epoch 18, CIFAR-10 Batch 1:  Loss :  1932.6437 validation accuracy: 0.560200\n",
      "Epoch 18, CIFAR-10 Batch 2:  Loss :    61.2037 validation accuracy: 0.553200\n",
      "Epoch 18, CIFAR-10 Batch 3:  Loss :  1197.0129 validation accuracy: 0.531400\n",
      "Epoch 18, CIFAR-10 Batch 4:  Loss :     0.0000 validation accuracy: 0.562000\n",
      "Epoch 18, CIFAR-10 Batch 5:  Loss :    14.3188 validation accuracy: 0.561000\n",
      "Epoch 19, CIFAR-10 Batch 1:  Loss :  1080.1119 validation accuracy: 0.546800\n",
      "Epoch 19, CIFAR-10 Batch 2:  Loss :   576.3574 validation accuracy: 0.551800\n",
      "Epoch 19, CIFAR-10 Batch 3:  Loss :   425.7332 validation accuracy: 0.550000\n",
      "Epoch 19, CIFAR-10 Batch 4:  Loss :     0.0000 validation accuracy: 0.562400\n",
      "Epoch 19, CIFAR-10 Batch 5:  Loss :   361.0072 validation accuracy: 0.552200\n",
      "Epoch 20, CIFAR-10 Batch 1:  Loss :   771.1131 validation accuracy: 0.561400\n",
      "Epoch 20, CIFAR-10 Batch 2:  Loss :     0.0000 validation accuracy: 0.551800\n",
      "Epoch 20, CIFAR-10 Batch 3:  Loss :     0.0000 validation accuracy: 0.544200\n",
      "Epoch 20, CIFAR-10 Batch 4:  Loss :   442.0045 validation accuracy: 0.553800\n",
      "Epoch 20, CIFAR-10 Batch 5:  Loss :   155.2463 validation accuracy: 0.554800\n",
      "Epoch 21, CIFAR-10 Batch 1:  Loss :   531.9598 validation accuracy: 0.561000\n",
      "Epoch 21, CIFAR-10 Batch 2:  Loss :   278.5949 validation accuracy: 0.543600\n",
      "Epoch 21, CIFAR-10 Batch 3:  Loss :   274.8647 validation accuracy: 0.563000\n",
      "Epoch 21, CIFAR-10 Batch 4:  Loss :     0.0000 validation accuracy: 0.563200\n",
      "Epoch 21, CIFAR-10 Batch 5:  Loss :   697.3558 validation accuracy: 0.523000\n",
      "Epoch 22, CIFAR-10 Batch 1:  Loss :   401.3853 validation accuracy: 0.559800\n"
     ]
    },
    {
     "name": "stdout",
     "output_type": "stream",
     "text": [
      "Epoch 22, CIFAR-10 Batch 2:  Loss :     0.0000 validation accuracy: 0.547400\n",
      "Epoch 22, CIFAR-10 Batch 3:  Loss :     0.0000 validation accuracy: 0.558600\n",
      "Epoch 22, CIFAR-10 Batch 4:  Loss :   363.1162 validation accuracy: 0.555600\n",
      "Epoch 22, CIFAR-10 Batch 5:  Loss :   528.2500 validation accuracy: 0.530200\n",
      "Epoch 23, CIFAR-10 Batch 1:  Loss :   120.4561 validation accuracy: 0.569800\n",
      "Epoch 23, CIFAR-10 Batch 2:  Loss :     0.0000 validation accuracy: 0.544800\n",
      "Epoch 23, CIFAR-10 Batch 3:  Loss :     0.0000 validation accuracy: 0.568600\n",
      "Epoch 23, CIFAR-10 Batch 4:  Loss :   214.6131 validation accuracy: 0.575800\n",
      "Epoch 23, CIFAR-10 Batch 5:  Loss :   256.7900 validation accuracy: 0.563600\n",
      "Epoch 24, CIFAR-10 Batch 1:  Loss :     0.0000 validation accuracy: 0.570400\n",
      "Epoch 24, CIFAR-10 Batch 2:  Loss :     0.0000 validation accuracy: 0.557800\n",
      "Epoch 24, CIFAR-10 Batch 3:  Loss :     0.0000 validation accuracy: 0.569800\n",
      "Epoch 24, CIFAR-10 Batch 4:  Loss :     0.0000 validation accuracy: 0.572600\n",
      "Epoch 24, CIFAR-10 Batch 5:  Loss :     0.0000 validation accuracy: 0.580000\n",
      "Epoch 25, CIFAR-10 Batch 1:  Loss :    12.0055 validation accuracy: 0.553400\n",
      "Epoch 25, CIFAR-10 Batch 2:  Loss :     0.0000 validation accuracy: 0.572200\n",
      "Epoch 25, CIFAR-10 Batch 3:  Loss :     0.0000 validation accuracy: 0.573400\n",
      "Epoch 25, CIFAR-10 Batch 4:  Loss :   114.3371 validation accuracy: 0.557000\n",
      "Epoch 25, CIFAR-10 Batch 5:  Loss :   703.4607 validation accuracy: 0.591000\n",
      "Epoch 26, CIFAR-10 Batch 1:  Loss :   134.2476 validation accuracy: 0.565800\n",
      "Epoch 26, CIFAR-10 Batch 2:  Loss :   114.7496 validation accuracy: 0.574600\n",
      "Epoch 26, CIFAR-10 Batch 3:  Loss :     0.0000 validation accuracy: 0.552600\n",
      "Epoch 26, CIFAR-10 Batch 4:  Loss :     0.0000 validation accuracy: 0.572200\n",
      "Epoch 26, CIFAR-10 Batch 5:  Loss :     0.0000 validation accuracy: 0.590200\n",
      "Epoch 27, CIFAR-10 Batch 1:  Loss :     0.0000 validation accuracy: 0.570600\n",
      "Epoch 27, CIFAR-10 Batch 2:  Loss :     0.0000 validation accuracy: 0.573800\n",
      "Epoch 27, CIFAR-10 Batch 3:  Loss :     0.0000 validation accuracy: 0.582800\n",
      "Epoch 27, CIFAR-10 Batch 4:  Loss :   142.9812 validation accuracy: 0.580200\n",
      "Epoch 27, CIFAR-10 Batch 5:  Loss :    46.2080 validation accuracy: 0.592200\n",
      "Epoch 28, CIFAR-10 Batch 1:  Loss :     0.0000 validation accuracy: 0.589200\n",
      "Epoch 28, CIFAR-10 Batch 2:  Loss :     0.0000 validation accuracy: 0.570400\n",
      "Epoch 28, CIFAR-10 Batch 3:  Loss :     0.0000 validation accuracy: 0.594600\n",
      "Epoch 28, CIFAR-10 Batch 4:  Loss :   358.5316 validation accuracy: 0.581000\n",
      "Epoch 28, CIFAR-10 Batch 5:  Loss :     0.0000 validation accuracy: 0.592800\n",
      "Epoch 29, CIFAR-10 Batch 1:  Loss :     0.0000 validation accuracy: 0.592200\n",
      "Epoch 29, CIFAR-10 Batch 2:  Loss :     0.0000 validation accuracy: 0.558800\n",
      "Epoch 29, CIFAR-10 Batch 3:  Loss :     0.0000 validation accuracy: 0.601000\n",
      "Epoch 29, CIFAR-10 Batch 4:  Loss :     0.0000 validation accuracy: 0.582400\n",
      "Epoch 29, CIFAR-10 Batch 5:  Loss :     0.0000 validation accuracy: 0.605800\n",
      "Epoch 30, CIFAR-10 Batch 1:  Loss :     0.0000 validation accuracy: 0.592600\n",
      "Epoch 30, CIFAR-10 Batch 2:  Loss :   278.2324 validation accuracy: 0.571600\n",
      "Epoch 30, CIFAR-10 Batch 3:  Loss :     0.0000 validation accuracy: 0.607000\n",
      "Epoch 30, CIFAR-10 Batch 4:  Loss :    59.2904 validation accuracy: 0.587000\n",
      "Epoch 30, CIFAR-10 Batch 5:  Loss :   368.3730 validation accuracy: 0.601200\n",
      "Epoch 31, CIFAR-10 Batch 1:  Loss :     0.0000 validation accuracy: 0.586200\n",
      "Epoch 31, CIFAR-10 Batch 2:  Loss :     0.0000 validation accuracy: 0.579000\n",
      "Epoch 31, CIFAR-10 Batch 3:  Loss :     0.0000 validation accuracy: 0.599800\n",
      "Epoch 31, CIFAR-10 Batch 4:  Loss :     0.0000 validation accuracy: 0.559600\n",
      "Epoch 31, CIFAR-10 Batch 5:  Loss :   156.2947 validation accuracy: 0.588400\n",
      "Epoch 32, CIFAR-10 Batch 1:  Loss :     0.0000 validation accuracy: 0.601000\n",
      "Epoch 32, CIFAR-10 Batch 2:  Loss :     0.0000 validation accuracy: 0.561000\n",
      "Epoch 32, CIFAR-10 Batch 3:  Loss :     0.0000 validation accuracy: 0.603400\n",
      "Epoch 32, CIFAR-10 Batch 4:  Loss :     0.0000 validation accuracy: 0.576800\n",
      "Epoch 32, CIFAR-10 Batch 5:  Loss :     0.0000 validation accuracy: 0.593800\n",
      "Epoch 33, CIFAR-10 Batch 1:  Loss :     0.0000 validation accuracy: 0.602000\n",
      "Epoch 33, CIFAR-10 Batch 2:  Loss :     0.0000 validation accuracy: 0.594600\n",
      "Epoch 33, CIFAR-10 Batch 3:  Loss :     0.0000 validation accuracy: 0.598600\n",
      "Epoch 33, CIFAR-10 Batch 4:  Loss :     0.0000 validation accuracy: 0.575600\n",
      "Epoch 33, CIFAR-10 Batch 5:  Loss :   536.3426 validation accuracy: 0.588800\n",
      "Epoch 34, CIFAR-10 Batch 1:  Loss :     0.0000 validation accuracy: 0.606600\n",
      "Epoch 34, CIFAR-10 Batch 2:  Loss :     0.0000 validation accuracy: 0.587600\n",
      "Epoch 34, CIFAR-10 Batch 3:  Loss :     0.0000 validation accuracy: 0.595400\n",
      "Epoch 34, CIFAR-10 Batch 4:  Loss :     0.0000 validation accuracy: 0.580600\n",
      "Epoch 34, CIFAR-10 Batch 5:  Loss :     0.0000 validation accuracy: 0.593000\n",
      "Epoch 35, CIFAR-10 Batch 1:  Loss :     0.0000 validation accuracy: 0.598400\n",
      "Epoch 35, CIFAR-10 Batch 2:  Loss :     0.0000 validation accuracy: 0.583600\n",
      "Epoch 35, CIFAR-10 Batch 3:  Loss :     0.0000 validation accuracy: 0.595800\n",
      "Epoch 35, CIFAR-10 Batch 4:  Loss :     0.0000 validation accuracy: 0.595200\n",
      "Epoch 35, CIFAR-10 Batch 5:  Loss :     0.0000 validation accuracy: 0.603800\n",
      "Epoch 36, CIFAR-10 Batch 1:  Loss :     0.0000 validation accuracy: 0.602400\n",
      "Epoch 36, CIFAR-10 Batch 2:  Loss :     0.0000 validation accuracy: 0.591800\n",
      "Epoch 36, CIFAR-10 Batch 3:  Loss :     0.0000 validation accuracy: 0.606200\n",
      "Epoch 36, CIFAR-10 Batch 4:  Loss :     0.0000 validation accuracy: 0.593200\n",
      "Epoch 36, CIFAR-10 Batch 5:  Loss :     0.0000 validation accuracy: 0.601000\n",
      "Epoch 37, CIFAR-10 Batch 1:  Loss :    90.7878 validation accuracy: 0.598400\n",
      "Epoch 37, CIFAR-10 Batch 2:  Loss :    64.7434 validation accuracy: 0.587200\n",
      "Epoch 37, CIFAR-10 Batch 3:  Loss :     0.0000 validation accuracy: 0.594000\n",
      "Epoch 37, CIFAR-10 Batch 4:  Loss :     0.0000 validation accuracy: 0.596400\n",
      "Epoch 37, CIFAR-10 Batch 5:  Loss :     0.0000 validation accuracy: 0.603200\n",
      "Epoch 38, CIFAR-10 Batch 1:  Loss :    33.9309 validation accuracy: 0.603200\n",
      "Epoch 38, CIFAR-10 Batch 2:  Loss :     0.0000 validation accuracy: 0.603000\n",
      "Epoch 38, CIFAR-10 Batch 3:  Loss :     0.0000 validation accuracy: 0.609200\n",
      "Epoch 38, CIFAR-10 Batch 4:  Loss :     0.0000 validation accuracy: 0.594000\n",
      "Epoch 38, CIFAR-10 Batch 5:  Loss :     0.0000 validation accuracy: 0.609400\n",
      "Epoch 39, CIFAR-10 Batch 1:  Loss :     0.0000 validation accuracy: 0.583400\n",
      "Epoch 39, CIFAR-10 Batch 2:  Loss :     0.0000 validation accuracy: 0.599000\n",
      "Epoch 39, CIFAR-10 Batch 3:  Loss :     0.0000 validation accuracy: 0.609800\n",
      "Epoch 39, CIFAR-10 Batch 4:  Loss :     0.0000 validation accuracy: 0.599000\n",
      "Epoch 39, CIFAR-10 Batch 5:  Loss :     0.0000 validation accuracy: 0.604800\n",
      "Epoch 40, CIFAR-10 Batch 1:  Loss :     0.0000 validation accuracy: 0.609000\n",
      "Epoch 40, CIFAR-10 Batch 2:  Loss :     0.0000 validation accuracy: 0.589800\n",
      "Epoch 40, CIFAR-10 Batch 3:  Loss :     0.0000 validation accuracy: 0.598600\n",
      "Epoch 40, CIFAR-10 Batch 4:  Loss :    16.3361 validation accuracy: 0.589200\n",
      "Epoch 40, CIFAR-10 Batch 5:  Loss :     0.0000 validation accuracy: 0.599200\n",
      "Epoch 41, CIFAR-10 Batch 1:  Loss :    74.2511 validation accuracy: 0.608800\n",
      "Epoch 41, CIFAR-10 Batch 2:  Loss :     0.0000 validation accuracy: 0.600800\n",
      "Epoch 41, CIFAR-10 Batch 3:  Loss :     0.0000 validation accuracy: 0.610800\n",
      "Epoch 41, CIFAR-10 Batch 4:  Loss :     0.0000 validation accuracy: 0.608000\n",
      "Epoch 41, CIFAR-10 Batch 5:  Loss :     0.0000 validation accuracy: 0.595200\n",
      "Epoch 42, CIFAR-10 Batch 1:  Loss :     2.7477 validation accuracy: 0.596200\n",
      "Epoch 42, CIFAR-10 Batch 2:  Loss :     0.0000 validation accuracy: 0.604000\n",
      "Epoch 42, CIFAR-10 Batch 3:  Loss :     0.0000 validation accuracy: 0.595600\n",
      "Epoch 42, CIFAR-10 Batch 4:  Loss :     0.0000 validation accuracy: 0.603800\n",
      "Epoch 42, CIFAR-10 Batch 5:  Loss :     0.0000 validation accuracy: 0.617800\n",
      "Epoch 43, CIFAR-10 Batch 1:  Loss :     0.0000 validation accuracy: 0.615400\n",
      "Epoch 43, CIFAR-10 Batch 2:  Loss :     0.0000 validation accuracy: 0.614200\n"
     ]
    },
    {
     "name": "stdout",
     "output_type": "stream",
     "text": [
      "Epoch 43, CIFAR-10 Batch 3:  Loss :     0.0000 validation accuracy: 0.617600\n",
      "Epoch 43, CIFAR-10 Batch 4:  Loss :     0.0000 validation accuracy: 0.613800\n",
      "Epoch 43, CIFAR-10 Batch 5:  Loss :     0.0000 validation accuracy: 0.619800\n",
      "Epoch 44, CIFAR-10 Batch 1:  Loss :     0.0000 validation accuracy: 0.597800\n",
      "Epoch 44, CIFAR-10 Batch 2:  Loss :     0.0000 validation accuracy: 0.599000\n",
      "Epoch 44, CIFAR-10 Batch 3:  Loss :    82.9264 validation accuracy: 0.610600\n",
      "Epoch 44, CIFAR-10 Batch 4:  Loss :     0.0000 validation accuracy: 0.611000\n",
      "Epoch 44, CIFAR-10 Batch 5:  Loss :     0.0000 validation accuracy: 0.620200\n",
      "Epoch 45, CIFAR-10 Batch 1:  Loss :     0.0000 validation accuracy: 0.600800\n",
      "Epoch 45, CIFAR-10 Batch 2:  Loss :     0.0000 validation accuracy: 0.610000\n",
      "Epoch 45, CIFAR-10 Batch 3:  Loss :     0.0000 validation accuracy: 0.623400\n",
      "Epoch 45, CIFAR-10 Batch 4:  Loss :     0.0000 validation accuracy: 0.621600\n",
      "Epoch 45, CIFAR-10 Batch 5:  Loss :     0.0000 validation accuracy: 0.628600\n",
      "Epoch 46, CIFAR-10 Batch 1:  Loss :     0.0000 validation accuracy: 0.625600\n",
      "Epoch 46, CIFAR-10 Batch 2:  Loss :     0.0000 validation accuracy: 0.600400\n",
      "Epoch 46, CIFAR-10 Batch 3:  Loss :     0.0000 validation accuracy: 0.622200\n",
      "Epoch 46, CIFAR-10 Batch 4:  Loss :     0.0000 validation accuracy: 0.631400\n",
      "Epoch 46, CIFAR-10 Batch 5:  Loss :     0.0000 validation accuracy: 0.621600\n",
      "Epoch 47, CIFAR-10 Batch 1:  Loss :     0.0000 validation accuracy: 0.614800\n",
      "Epoch 47, CIFAR-10 Batch 2:  Loss :     0.0000 validation accuracy: 0.604400\n",
      "Epoch 47, CIFAR-10 Batch 3:  Loss :     0.0000 validation accuracy: 0.627600\n",
      "Epoch 47, CIFAR-10 Batch 4:  Loss :     0.0000 validation accuracy: 0.612400\n",
      "Epoch 47, CIFAR-10 Batch 5:  Loss :     0.0000 validation accuracy: 0.626400\n",
      "Epoch 48, CIFAR-10 Batch 1:  Loss :     0.0000 validation accuracy: 0.604000\n",
      "Epoch 48, CIFAR-10 Batch 2:  Loss :     0.0000 validation accuracy: 0.598200\n",
      "Epoch 48, CIFAR-10 Batch 3:  Loss :     0.0000 validation accuracy: 0.609000\n",
      "Epoch 48, CIFAR-10 Batch 4:  Loss :     0.0000 validation accuracy: 0.621400\n",
      "Epoch 48, CIFAR-10 Batch 5:  Loss :    40.0527 validation accuracy: 0.633600\n",
      "Epoch 49, CIFAR-10 Batch 1:  Loss :     0.0000 validation accuracy: 0.630600\n",
      "Epoch 49, CIFAR-10 Batch 2:  Loss :     0.0000 validation accuracy: 0.609200\n",
      "Epoch 49, CIFAR-10 Batch 3:  Loss :     0.0000 validation accuracy: 0.630400\n",
      "Epoch 49, CIFAR-10 Batch 4:  Loss :     0.0000 validation accuracy: 0.621200\n",
      "Epoch 49, CIFAR-10 Batch 5:  Loss :     0.0000 validation accuracy: 0.607800\n",
      "Epoch 50, CIFAR-10 Batch 1:  Loss :     0.0000 validation accuracy: 0.627000\n",
      "Epoch 50, CIFAR-10 Batch 2:  Loss :     0.0000 validation accuracy: 0.612000\n",
      "Epoch 50, CIFAR-10 Batch 3:  Loss :     0.0000 validation accuracy: 0.628800\n",
      "Epoch 50, CIFAR-10 Batch 4:  Loss :     0.0000 validation accuracy: 0.618400\n",
      "Epoch 50, CIFAR-10 Batch 5:  Loss :     0.0000 validation accuracy: 0.621600\n"
     ]
    }
   ],
   "source": [
    "\"\"\"\n",
    "DON'T MODIFY ANYTHING IN THIS CELL\n",
    "\"\"\"\n",
    "save_model_path = './image_classification'\n",
    "\n",
    "print('Training...')\n",
    "with tf.Session() as sess:\n",
    "    # Initializing the variables\n",
    "    sess.run(tf.global_variables_initializer())\n",
    "    \n",
    "    # Training cycle\n",
    "    for epoch in range(epochs):\n",
    "        # Loop over all batches\n",
    "        n_batches = 5\n",
    "        for batch_i in range(1, n_batches + 1):\n",
    "            for batch_features, batch_labels in helper.load_preprocess_training_batch(batch_i, batch_size):\n",
    "                train_neural_network(sess, optimizer, keep_probability, batch_features, batch_labels)\n",
    "            print('Epoch {:>2}, CIFAR-10 Batch {}:  '.format(epoch + 1, batch_i), end='')\n",
    "            print_stats(sess, batch_features, batch_labels, cost, accuracy)\n",
    "            \n",
    "    # Save Model\n",
    "    saver = tf.train.Saver()\n",
    "    save_path = saver.save(sess, save_model_path)"
   ]
  },
  {
   "cell_type": "markdown",
   "metadata": {},
   "source": [
    "# Checkpoint\n",
    "The model has been saved to disk.\n",
    "## Test Model\n",
    "Test your model against the test dataset.  This will be your final accuracy. You should have an accuracy greater than 50%. If you don't, keep tweaking the model architecture and parameters."
   ]
  },
  {
   "cell_type": "code",
   "execution_count": 18,
   "metadata": {},
   "outputs": [
    {
     "name": "stdout",
     "output_type": "stream",
     "text": [
      "INFO:tensorflow:Restoring parameters from ./image_classification\n",
      "Testing Accuracy: 0.6205498417721519\n",
      "\n"
     ]
    },
    {
     "data": {
      "image/png": "[encoded data removed]",
      "text/plain": [
       "<matplotlib.figure.Figure at 0x208ba463ef0>"
      ]
     },
     "metadata": {
      "image/png": {
       "height": 319,
       "width": 349
      }
     },
     "output_type": "display_data"
    }
   ],
   "source": [
    "\"\"\"\n",
    "DON'T MODIFY ANYTHING IN THIS CELL\n",
    "\"\"\"\n",
    "%matplotlib inline\n",
    "%config InlineBackend.figure_format = 'retina'\n",
    "\n",
    "import tensorflow as tf\n",
    "import pickle\n",
    "import helper\n",
    "import random\n",
    "\n",
    "# Set batch size if not already set\n",
    "try:\n",
    "    if batch_size:\n",
    "        pass\n",
    "except NameError:\n",
    "    batch_size = 64\n",
    "\n",
    "save_model_path = './image_classification'\n",
    "n_samples = 4\n",
    "top_n_predictions = 3\n",
    "\n",
    "def test_model():\n",
    "    \"\"\"\n",
    "    Test the saved model against the test dataset\n",
    "    \"\"\"\n",
    "\n",
    "    test_features, test_labels = pickle.load(open('preprocess_test.p', mode='rb'))\n",
    "    loaded_graph = tf.Graph()\n",
    "\n",
    "    with tf.Session(graph=loaded_graph) as sess:\n",
    "        # Load model\n",
    "        loader = tf.train.import_meta_graph(save_model_path + '.meta')\n",
    "        loader.restore(sess, save_model_path)\n",
    "\n",
    "        # Get Tensors from loaded model\n",
    "        loaded_x = loaded_graph.get_tensor_by_name('x:0')\n",
    "        loaded_y = loaded_graph.get_tensor_by_name('y:0')\n",
    "        loaded_keep_prob = loaded_graph.get_tensor_by_name('keep_prob:0')\n",
    "        loaded_logits = loaded_graph.get_tensor_by_name('logits:0')\n",
    "        loaded_acc = loaded_graph.get_tensor_by_name('accuracy:0')\n",
    "        \n",
    "        # Get accuracy in batches for memory limitations\n",
    "        test_batch_acc_total = 0\n",
    "        test_batch_count = 0\n",
    "        \n",
    "        for test_feature_batch, test_label_batch in helper.batch_features_labels(test_features, test_labels, batch_size):\n",
    "            test_batch_acc_total += sess.run(\n",
    "                loaded_acc,\n",
    "                feed_dict={loaded_x: test_feature_batch, loaded_y: test_label_batch, loaded_keep_prob: 1.0})\n",
    "            test_batch_count += 1\n",
    "\n",
    "        print('Testing Accuracy: {}\\n'.format(test_batch_acc_total/test_batch_count))\n",
    "\n",
    "        # Print Random Samples\n",
    "        random_test_features, random_test_labels = tuple(zip(*random.sample(list(zip(test_features, test_labels)), n_samples)))\n",
    "        random_test_predictions = sess.run(\n",
    "            tf.nn.top_k(tf.nn.softmax(loaded_logits), top_n_predictions),\n",
    "            feed_dict={loaded_x: random_test_features, loaded_y: random_test_labels, loaded_keep_prob: 1.0})\n",
    "        helper.display_image_predictions(random_test_features, random_test_labels, random_test_predictions)\n",
    "\n",
    "\n",
    "test_model()"
   ]
  },
  {
   "cell_type": "markdown",
   "metadata": {},
   "source": [
    "## Why 50-80% Accuracy?\n",
    "You might be wondering why you can't get an accuracy any higher. First things first, 50% isn't bad for a simple CNN.  Pure guessing would get you 10% accuracy. However, you might notice people are getting scores [well above 80%](http://rodrigob.github.io/are_we_there_yet/build/classification_datasets_results.html#43494641522d3130).  That's because we haven't taught you all there is to know about neural networks. We still need to cover a few more techniques.\n",
    "## Submitting This Project\n",
    "When submitting this project, make sure to run all the cells before saving the notebook.  Save the notebook file as \"dlnd_image_classification.ipynb\" and save it as a HTML file under \"File\" -> \"Download as\".  Include the \"helper.py\" and \"problem_unittests.py\" files in your submission."
   ]
  },
  {
   "cell_type": "code",
   "execution_count": null,
   "metadata": {
    "collapsed": true
   },
   "outputs": [],
   "source": []
  }
 ],
 "metadata": {
  "kernelspec": {
   "display_name": "Python 3",
   "language": "python",
   "name": "python3"
  },
  "language_info": {
   "codemirror_mode": {
    "name": "ipython",
    "version": 3
   },
   "file_extension": ".py",
   "mimetype": "text/x-python",
   "name": "python",
   "nbconvert_exporter": "python",
   "pygments_lexer": "ipython3",
   "version": "3.5.2"
  }
 },
 "nbformat": 4,
 "nbformat_minor": 1
}
